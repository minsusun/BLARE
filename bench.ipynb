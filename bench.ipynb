{
 "cells": [
  {
   "cell_type": "code",
   "execution_count": 7,
   "metadata": {},
   "outputs": [
    {
     "name": "stderr",
     "output_type": "stream",
     "text": [
      "/Users/gamgyu1/miniconda3/envs/FLARE/lib/python3.9/site-packages/tqdm/auto.py:21: TqdmWarning: IProgress not found. Please update jupyter and ipywidgets. See https://ipywidgets.readthedocs.io/en/stable/user_install.html\n",
      "  from .autonotebook import tqdm as notebook_tqdm\n"
     ]
    }
   ],
   "source": [
    "from src.datasets import *\n",
    "from src.templates import *\n",
    "import pprint"
   ]
  },
  {
   "cell_type": "code",
   "execution_count": 24,
   "metadata": {},
   "outputs": [
    {
     "name": "stderr",
     "output_type": "stream",
     "text": [
      "Map: 100%|██████████| 12576/12576 [00:00<00:00, 32567.58 examples/s]\n"
     ]
    }
   ],
   "source": [
    "data = WikiMultiHopQA('data/2wikimultihopqa')\n",
    "data.load_data('data/2wikimultihopqa')\n",
    "data.format()"
   ]
  },
  {
   "cell_type": "code",
   "execution_count": 25,
   "metadata": {},
   "outputs": [],
   "source": [
    "result = []"
   ]
  },
  {
   "cell_type": "code",
   "execution_count": 31,
   "metadata": {},
   "outputs": [],
   "source": [
    "with open('result/json.jsonl', 'r') as f:\n",
    "    for line in f:\n",
    "        result.append(json.loads(line))"
   ]
  },
  {
   "cell_type": "code",
   "execution_count": 43,
   "metadata": {},
   "outputs": [
    {
     "data": {
      "text/plain": [
       "(' So the answer is French.',\n",
       " 'French',\n",
       " \" Honoré V, Prince of Monaco's mother is Louise d'Aumont. Louise d'Aumont's nationality is French. So the answer is French.\",\n",
       " [['Search results ranked based on relevance in descending order:\\n[1]: The Hypocrites (1915 film) Hypocrites, also known as The Hypocrites, is a 1915 silent drama film written and directed by Lois Weber (1879–1939). The film contained several full nude scenes. The film is regarded as anticlerical, and the nudity was justified by its religious context. The film follows the parallel stories of an early Christian ascetic and a modern minister, with most actors in dual roles. Gabriel (Courteney Foote) is a medieval monk who devotes himself to completing a statue of “Truth,” only to be murdered by a mob when his work turns out to be an image of a\\n[2]: been considered scandalous and immoral. The film was passed by the British Board of Film Censors. However, because of the full and recurring nudity through the film, it caused riots in New York City, was banned in Ohio, and was subject to censorship in Boston when the mayor demanded that the film negatives be painted over to clothe the woman. \"Hypocrites\" and the technique was widely admired at the time for its extraordinary use of multiple exposures and intricate editing, and propelled Weber to the front ranks of silent directors. The use in the film of traveling double exposure sequences\\nQuestion: When did the director of film Hypocrite (Film) die?\\nAnswer: The film Hypocrite was directed by Miguel Morayta. Miguel Morayta died on 19 June 2013. So the answer is 19 June 2013.\\n\\nSearch results ranked based on relevance in descending order:\\n[1]: Kurram Garhi Kurram Garhi is a small village located in the city of Bannu, which is the part of Khyber Pakhtunkhwa province of Pakistan. Its population is approximately 35000. Barren hills are near this village. It has a big graveyard, which is used by the neighbouring villages. Kurram Garhi is located in Khyber Pakhtunkhwa (KPK) near Bann. It’s about a 20-25 minute drive from Bannu city. This village is on the border of Kurram Agency. Other nearby villages are Peppal, Surwangi and Amandi Kala. The people of Kurram Garhi wear Shalwar-Kameez regional dress. For women the design is different. In\\n[2]: in February 1958 with Average Annual generating capacity of 17 million units (GWh) of least expensive electricity. In the vicinity of the hamlet a big water treatment plant purifies canal water called kurram. The water is purified for the whole city. The pure water then flows from Kurram Garhi to Bannu city approximately 25 km. The pure water is stored in a huge tank located in Tanchi Bazar. Graves may be 20–25 feet long. The graves are at Baba Sahab. Kurram Garhi Kurram Garhi is a small village located in the city of Bannu, which is the part of Khyber\\nQuestion: Are both Kurram Garhi and Trojkrsti located in the same country?\\nAnswer: Kurram Garhi is located in the country of Pakistan. Trojkrsti is located in the country of Republic of Macedonia. Thus, they are not in the same country. So the answer is no.\\n\\nSearch results ranked based on relevance in descending order:\\n[1]: of Coolie No. 1 was a rage when it released. Although producer of Tips films Vashu Bhagnani and director David Dhawan were extremely confident that \"Husn Hain Suhana\", rendered by Abhijeet and Chandana Dixit would be the selling factor of the album, it was the song \"Main To Raste Se Ja Raha Tha\" that did the trick. The music of Coolie No. 1 strengthened Anand-Milind and Govinda/David Dhawan\\'s track record of coming up with super hit music with each outing. Coolie No. 1 (1995 film) Coolie No. 1 is a 1995 Indian Hindi comedy film directed by David Dhawan. The\\n[2]: Coolie No. 1 (1995 film) Coolie No. 1 is a 1995 Indian Hindi comedy film directed by David Dhawan. The film stars Govinda, Karisma Kapoor, Shakti Kapoor, Kadar Khan and Sadashiv Amrapurkar, with music by Anand-Milind. This movie was one of the first successful movies of Karisma Kapoor. Actor Govinda received the Star Screen Award Special Jury Award for his role in this movie as \\'performer of the decade\\'. Over the years, the movie has become a classic in Indian film history and is now considered a cult film. The movie is a remake of the 1993 Tamil film, \"Chinna\\nQuestion: Do director of film Coolie No. 1 (1995 Film) and director of film The Sensational Trial have the same nationality?\\nAnswer: Coolie No. 1 (1995 film) was directed by David Dhawan. The Sensational Trial was directed by Karl Freund. David Dhawan\\'s nationality is India. Karl Freund\\'s nationality is Germany. Thus, they do not have the same nationality. So the answer is no.\\n\\nSearch results ranked based on relevance in descending order:\\n[1]: the turbulent events of his father\\'s rise. When Ögedei was 17 years old, Genghis Khan experienced the disastrous defeat of Khalakhaljid Sands against the army of Jamukha. Ögedei was heavily wounded and lost on the battlefield. His father\\'s adopted brother and companion Borokhula rescued him. Although already married, in 1204 his father gave him Töregene, the wife of a defeated Merkit chief. The addition of such a wife was not uncommon in steppe culture. After Genghis was proclaimed Emperor or Khagan in 1206, \"myangans\" (thousands) of the Jalayir, Besud, Suldus, and Khongqatan clans were given to him as his appanage.\\n[2]: House of Ögedei The House of Ögedei, sometimes called the Ögedeids, were an influential family of Mongol Borjigin (Imperial, or Golden Family) from the 12th to 14th centuries. They were descended from Ögedei Khan (c.1185-1241), a son of Genghis Khan who had become his father\\'s successor, second Khagan of the Mongol Empire. Ögedei continued the expansion of the Mongol Empire. When, after the Toluid Möngke Khan\\'s death, the Mongol Empire disintegrated into civil war, the members of the House of Ogedei were influential players in the politics of the region. Of Genghis Khan\\'s sons — Ogedei, Jochi, Chagatai, and Tolui\\nQuestion: Who is Boraqchin (Wife Of Ögedei)\\'s father-in-law?\\nAnswer: Boraqchin is married to Ögedei Khan. Ögedei Khan\\'s father is Genghis Khan. Thus, Boraqchin\\'s father-in-law is Genghis Khan. So the answer is Genghis Khan.\\n\\nSearch results ranked based on relevance in descending order:\\n[1]: Marcos Martinich Marcos Daniel Martinich (born 8 August 1996) is an Argentine professional footballer who plays as a midfielder for Primera B Nacional side Villa Dálmine, on loan from Argentine Primera División side Rosario Central. Martinich started his career in the ranks of Argentine Primera División side Rosario Central. In August 2016, Martinich was loaned to Talleres. However, he didn\\'t feature for the Primera División club in senior football and returned to Rosario Central months after joining. On 5 September 2017, Villa Dálmine completed the loan signing of Martinich. He made his professional debut on 16 September during a 2–0\\n[2]: victory over Boca Unidos. Marcos Martinich Marcos Daniel Martinich (born 8 August 1996) is an Argentine professional footballer who plays as a midfielder for Primera B Nacional side Villa Dálmine, on loan from Argentine Primera División side Rosario Central. Martinich started his career in the ranks of Argentine Primera División side Rosario Central. In August 2016, Martinich was loaned to Talleres. However, he didn\\'t feature for the Primera División club in senior football and returned to Rosario Central months after joining. On 5 September 2017, Villa Dálmine completed the loan signing of Martinich. He made his professional debut on 16\\nQuestion: Who was born first out of Martin Hodge and Ivania Martinich?\\nAnswer: Martin Hodge was born on 4 February 1959. Ivania Martinich was born on 25 July 1995. Thus, Martin Hodge was born first. So the answer is Martin Hodge.\\n\\nSearch results ranked based on relevance in descending order:\\n[1]: Laughter in Hell Laughter in Hell is a 1933 American Pre-Code drama film directed by Edward L. Cahn and starring Pat O\\'Brien. The film\\'s title was typical of the sensationalistic titles of many Pre-Code films. The film was inspired in part by \"I Am a Fugitive from a Chain Gang\" and was part of a series of films depicting men in chain gangs following the success of that film. O\\'Brien plays a railroad engineer who kills his wife and her lover in a jealous rage and is sent to prison. The movie received a mixed review in \"The New York\\n[2]: cuts by city and state film censorship boards. Several censorship boards including New York, Ohio, Massachusetts, Pennsylvania, and Chicago removed the lynching scene, allowing only indications that a hanging was about to take place. Mordaunt Hall, writing for \"The New York Times\" praised the acting, the characterizations, action sequences, and some of the banter, but was not impressed with the storyline. Laughter in Hell Laughter in Hell is a 1933 American Pre-Code drama film directed by Edward L. Cahn and starring Pat O\\'Brien. The film\\'s title was typical of the sensationalistic titles of many Pre-Code films. The film was inspired\\nQuestion: When did the director of film Laughter In Hell die?\\nAnswer: The film Laughter In Hell was directed by Edward L. Cahn. Edward L. Cahn died on August 25, 1963. So the answer is August 25, 1963.\\n\\nSearch results ranked based on relevance in descending order:\\n[1]: in February 1949. The film was retitled \"The Gal Who Took the West\" during editing. The Gal Who Took the West The Gal Who Took the West is a 1949 American Technicolor Western film directed by Frederick de Cordova starring Yvonne De Carlo, Charles Coburn, Scott Brady and John Russell. It was nominated for an award by the Writers Guild of America 1950. A journalist is writing an article on the O\\'Hara family of Arizona. They tell about the time in the 1890s when a girl, Lily, was caught in a feud between two O\\'Haras. The film was originally known\\n[2]: The Gal Who Took the West The Gal Who Took the West is a 1949 American Technicolor Western film directed by Frederick de Cordova starring Yvonne De Carlo, Charles Coburn, Scott Brady and John Russell. It was nominated for an award by the Writers Guild of America 1950. A journalist is writing an article on the O\\'Hara family of Arizona. They tell about the time in the 1890s when a girl, Lily, was caught in a feud between two O\\'Haras. The film was originally known as \"The Western Story\". It was the idea of William Bowers, about three interpretations of\\nQuestion: Which film has the director died later, The Gal Who Took the West or Twenty Plus Two?\\nAnswer: The film Twenty Plus Two was directed by Joseph M. Newman. The Gal Who Took the West was directed by Frederick de Cordova. Joseph M. Newman died on January 23, 2006. Fred de Cordova died on September 15, 2001. Thus, the person to die later from the two is Twenty Plus Two. So the answer is Twenty Plus Two.\\n\\nSearch results ranked based on relevance in descending order:\\n[1]: Nepalese Army The Nepalese Army () or Gorkhali Army () is the military land warfare force of Nepal. Service is voluntary and the minimum age of recruitment is 18 years. The army was formerly known as The Royal Nepalese Army (RNA) during the monarchy period in Nepal. It was renamed the Nepalese Army on 28 May 2008 after the abolition of the 238-year-old Shah dynasty rule. Nepal unification campaign was a turning point in the history of the Nepalese army. Since unification was not possible without a strong army, the management of the armed forces had to be exceptional. Apart\\n[2]: Bam Shah \"Sri Chautaria\" Bam Shah or Brahma Shah was an administrator of Nepal. He belongs to Shah Dynasty of Gorkha. He was Governor of Kumaun Province during Anglo-Nepalese war. He was born to Birbaha Shah. He was grandson of \"Sri Sri Sri Maharaj Adhirajkumar\" Chandrarup Shah, 4th son of King Prithvipati Shah of Gorkha. His 3 brothers were Dilip Shah, Hasti Dal Shah (warrior killed at Anglo-Nepalese war) and Rudra Bir Shah. He was a Minister of State in 1800 A.D. and the Governor of Kumaun from 1814 to 1815 A.D. at Anglo-Nepalese war. Out at west Nepalese were\\nQuestion: Who is the grandchild of Krishna Shah (Nepalese Royal)?\\nAnswer: Krishna Shah has a child named Rudra Shah. Rudra Shah has a child named Prithvipati Shah. Thus, Krishna Shah has a grandchild named Prithvipati Shah. So the answer is Prithvipati Shah.\\n\\nSearch results ranked based on relevance in descending order:\\n[1]: Louise d\\'Aumont Louise d\\'Aumont, \"duchesse d\\'Aumont, duchesse Mazarin et de La Meilleraye\" (Louise Félicité Victoire; 22 October 1759 in Paris – 13 December 1826 in Paris) was the only child and daughter of Louis Marie d\\'Aumont, Duke of Aumont (1732–1799), and his wife, Louise Jeanne de Durfort, \"duchesse Mazarin et de La Meilleraye\" (Paris, 1 September 1735 - Paris, 17 March 1781). She married Honoré IV, Prince of Monaco, on 15 July 1777 in Paris. The couple had two children, both of whom in turn ruled Monaco: Prince Honoré V and Prince Florestan I. Following their incarceration during the French\\nQuestion: What nationality is Honoré V, Prince Of Monaco\\'s mother?\\nAnswer:',\n",
       "   \" Honoré V, Prince of Monaco's mother is Louise d'Aumont.\"],\n",
       "  ['Search results ranked based on relevance in descending order:\\n[1]: The Hypocrites (1915 film) Hypocrites, also known as The Hypocrites, is a 1915 silent drama film written and directed by Lois Weber (1879–1939). The film contained several full nude scenes. The film is regarded as anticlerical, and the nudity was justified by its religious context. The film follows the parallel stories of an early Christian ascetic and a modern minister, with most actors in dual roles. Gabriel (Courteney Foote) is a medieval monk who devotes himself to completing a statue of “Truth,” only to be murdered by a mob when his work turns out to be an image of a\\n[2]: been considered scandalous and immoral. The film was passed by the British Board of Film Censors. However, because of the full and recurring nudity through the film, it caused riots in New York City, was banned in Ohio, and was subject to censorship in Boston when the mayor demanded that the film negatives be painted over to clothe the woman. \"Hypocrites\" and the technique was widely admired at the time for its extraordinary use of multiple exposures and intricate editing, and propelled Weber to the front ranks of silent directors. The use in the film of traveling double exposure sequences\\nQuestion: When did the director of film Hypocrite (Film) die?\\nAnswer: The film Hypocrite was directed by Miguel Morayta. Miguel Morayta died on 19 June 2013. So the answer is 19 June 2013.\\n\\nSearch results ranked based on relevance in descending order:\\n[1]: Kurram Garhi Kurram Garhi is a small village located in the city of Bannu, which is the part of Khyber Pakhtunkhwa province of Pakistan. Its population is approximately 35000. Barren hills are near this village. It has a big graveyard, which is used by the neighbouring villages. Kurram Garhi is located in Khyber Pakhtunkhwa (KPK) near Bann. It’s about a 20-25 minute drive from Bannu city. This village is on the border of Kurram Agency. Other nearby villages are Peppal, Surwangi and Amandi Kala. The people of Kurram Garhi wear Shalwar-Kameez regional dress. For women the design is different. In\\n[2]: in February 1958 with Average Annual generating capacity of 17 million units (GWh) of least expensive electricity. In the vicinity of the hamlet a big water treatment plant purifies canal water called kurram. The water is purified for the whole city. The pure water then flows from Kurram Garhi to Bannu city approximately 25 km. The pure water is stored in a huge tank located in Tanchi Bazar. Graves may be 20–25 feet long. The graves are at Baba Sahab. Kurram Garhi Kurram Garhi is a small village located in the city of Bannu, which is the part of Khyber\\nQuestion: Are both Kurram Garhi and Trojkrsti located in the same country?\\nAnswer: Kurram Garhi is located in the country of Pakistan. Trojkrsti is located in the country of Republic of Macedonia. Thus, they are not in the same country. So the answer is no.\\n\\nSearch results ranked based on relevance in descending order:\\n[1]: of Coolie No. 1 was a rage when it released. Although producer of Tips films Vashu Bhagnani and director David Dhawan were extremely confident that \"Husn Hain Suhana\", rendered by Abhijeet and Chandana Dixit would be the selling factor of the album, it was the song \"Main To Raste Se Ja Raha Tha\" that did the trick. The music of Coolie No. 1 strengthened Anand-Milind and Govinda/David Dhawan\\'s track record of coming up with super hit music with each outing. Coolie No. 1 (1995 film) Coolie No. 1 is a 1995 Indian Hindi comedy film directed by David Dhawan. The\\n[2]: Coolie No. 1 (1995 film) Coolie No. 1 is a 1995 Indian Hindi comedy film directed by David Dhawan. The film stars Govinda, Karisma Kapoor, Shakti Kapoor, Kadar Khan and Sadashiv Amrapurkar, with music by Anand-Milind. This movie was one of the first successful movies of Karisma Kapoor. Actor Govinda received the Star Screen Award Special Jury Award for his role in this movie as \\'performer of the decade\\'. Over the years, the movie has become a classic in Indian film history and is now considered a cult film. The movie is a remake of the 1993 Tamil film, \"Chinna\\nQuestion: Do director of film Coolie No. 1 (1995 Film) and director of film The Sensational Trial have the same nationality?\\nAnswer: Coolie No. 1 (1995 film) was directed by David Dhawan. The Sensational Trial was directed by Karl Freund. David Dhawan\\'s nationality is India. Karl Freund\\'s nationality is Germany. Thus, they do not have the same nationality. So the answer is no.\\n\\nSearch results ranked based on relevance in descending order:\\n[1]: the turbulent events of his father\\'s rise. When Ögedei was 17 years old, Genghis Khan experienced the disastrous defeat of Khalakhaljid Sands against the army of Jamukha. Ögedei was heavily wounded and lost on the battlefield. His father\\'s adopted brother and companion Borokhula rescued him. Although already married, in 1204 his father gave him Töregene, the wife of a defeated Merkit chief. The addition of such a wife was not uncommon in steppe culture. After Genghis was proclaimed Emperor or Khagan in 1206, \"myangans\" (thousands) of the Jalayir, Besud, Suldus, and Khongqatan clans were given to him as his appanage.\\n[2]: House of Ögedei The House of Ögedei, sometimes called the Ögedeids, were an influential family of Mongol Borjigin (Imperial, or Golden Family) from the 12th to 14th centuries. They were descended from Ögedei Khan (c.1185-1241), a son of Genghis Khan who had become his father\\'s successor, second Khagan of the Mongol Empire. Ögedei continued the expansion of the Mongol Empire. When, after the Toluid Möngke Khan\\'s death, the Mongol Empire disintegrated into civil war, the members of the House of Ogedei were influential players in the politics of the region. Of Genghis Khan\\'s sons — Ogedei, Jochi, Chagatai, and Tolui\\nQuestion: Who is Boraqchin (Wife Of Ögedei)\\'s father-in-law?\\nAnswer: Boraqchin is married to Ögedei Khan. Ögedei Khan\\'s father is Genghis Khan. Thus, Boraqchin\\'s father-in-law is Genghis Khan. So the answer is Genghis Khan.\\n\\nSearch results ranked based on relevance in descending order:\\n[1]: Marcos Martinich Marcos Daniel Martinich (born 8 August 1996) is an Argentine professional footballer who plays as a midfielder for Primera B Nacional side Villa Dálmine, on loan from Argentine Primera División side Rosario Central. Martinich started his career in the ranks of Argentine Primera División side Rosario Central. In August 2016, Martinich was loaned to Talleres. However, he didn\\'t feature for the Primera División club in senior football and returned to Rosario Central months after joining. On 5 September 2017, Villa Dálmine completed the loan signing of Martinich. He made his professional debut on 16 September during a 2–0\\n[2]: victory over Boca Unidos. Marcos Martinich Marcos Daniel Martinich (born 8 August 1996) is an Argentine professional footballer who plays as a midfielder for Primera B Nacional side Villa Dálmine, on loan from Argentine Primera División side Rosario Central. Martinich started his career in the ranks of Argentine Primera División side Rosario Central. In August 2016, Martinich was loaned to Talleres. However, he didn\\'t feature for the Primera División club in senior football and returned to Rosario Central months after joining. On 5 September 2017, Villa Dálmine completed the loan signing of Martinich. He made his professional debut on 16\\nQuestion: Who was born first out of Martin Hodge and Ivania Martinich?\\nAnswer: Martin Hodge was born on 4 February 1959. Ivania Martinich was born on 25 July 1995. Thus, Martin Hodge was born first. So the answer is Martin Hodge.\\n\\nSearch results ranked based on relevance in descending order:\\n[1]: Laughter in Hell Laughter in Hell is a 1933 American Pre-Code drama film directed by Edward L. Cahn and starring Pat O\\'Brien. The film\\'s title was typical of the sensationalistic titles of many Pre-Code films. The film was inspired in part by \"I Am a Fugitive from a Chain Gang\" and was part of a series of films depicting men in chain gangs following the success of that film. O\\'Brien plays a railroad engineer who kills his wife and her lover in a jealous rage and is sent to prison. The movie received a mixed review in \"The New York\\n[2]: cuts by city and state film censorship boards. Several censorship boards including New York, Ohio, Massachusetts, Pennsylvania, and Chicago removed the lynching scene, allowing only indications that a hanging was about to take place. Mordaunt Hall, writing for \"The New York Times\" praised the acting, the characterizations, action sequences, and some of the banter, but was not impressed with the storyline. Laughter in Hell Laughter in Hell is a 1933 American Pre-Code drama film directed by Edward L. Cahn and starring Pat O\\'Brien. The film\\'s title was typical of the sensationalistic titles of many Pre-Code films. The film was inspired\\nQuestion: When did the director of film Laughter In Hell die?\\nAnswer: The film Laughter In Hell was directed by Edward L. Cahn. Edward L. Cahn died on August 25, 1963. So the answer is August 25, 1963.\\n\\nSearch results ranked based on relevance in descending order:\\n[1]: in February 1949. The film was retitled \"The Gal Who Took the West\" during editing. The Gal Who Took the West The Gal Who Took the West is a 1949 American Technicolor Western film directed by Frederick de Cordova starring Yvonne De Carlo, Charles Coburn, Scott Brady and John Russell. It was nominated for an award by the Writers Guild of America 1950. A journalist is writing an article on the O\\'Hara family of Arizona. They tell about the time in the 1890s when a girl, Lily, was caught in a feud between two O\\'Haras. The film was originally known\\n[2]: The Gal Who Took the West The Gal Who Took the West is a 1949 American Technicolor Western film directed by Frederick de Cordova starring Yvonne De Carlo, Charles Coburn, Scott Brady and John Russell. It was nominated for an award by the Writers Guild of America 1950. A journalist is writing an article on the O\\'Hara family of Arizona. They tell about the time in the 1890s when a girl, Lily, was caught in a feud between two O\\'Haras. The film was originally known as \"The Western Story\". It was the idea of William Bowers, about three interpretations of\\nQuestion: Which film has the director died later, The Gal Who Took the West or Twenty Plus Two?\\nAnswer: The film Twenty Plus Two was directed by Joseph M. Newman. The Gal Who Took the West was directed by Frederick de Cordova. Joseph M. Newman died on January 23, 2006. Fred de Cordova died on September 15, 2001. Thus, the person to die later from the two is Twenty Plus Two. So the answer is Twenty Plus Two.\\n\\nSearch results ranked based on relevance in descending order:\\n[1]: Nepalese Army The Nepalese Army () or Gorkhali Army () is the military land warfare force of Nepal. Service is voluntary and the minimum age of recruitment is 18 years. The army was formerly known as The Royal Nepalese Army (RNA) during the monarchy period in Nepal. It was renamed the Nepalese Army on 28 May 2008 after the abolition of the 238-year-old Shah dynasty rule. Nepal unification campaign was a turning point in the history of the Nepalese army. Since unification was not possible without a strong army, the management of the armed forces had to be exceptional. Apart\\n[2]: Bam Shah \"Sri Chautaria\" Bam Shah or Brahma Shah was an administrator of Nepal. He belongs to Shah Dynasty of Gorkha. He was Governor of Kumaun Province during Anglo-Nepalese war. He was born to Birbaha Shah. He was grandson of \"Sri Sri Sri Maharaj Adhirajkumar\" Chandrarup Shah, 4th son of King Prithvipati Shah of Gorkha. His 3 brothers were Dilip Shah, Hasti Dal Shah (warrior killed at Anglo-Nepalese war) and Rudra Bir Shah. He was a Minister of State in 1800 A.D. and the Governor of Kumaun from 1814 to 1815 A.D. at Anglo-Nepalese war. Out at west Nepalese were\\nQuestion: Who is the grandchild of Krishna Shah (Nepalese Royal)?\\nAnswer: Krishna Shah has a child named Rudra Shah. Rudra Shah has a child named Prithvipati Shah. Thus, Krishna Shah has a grandchild named Prithvipati Shah. So the answer is Prithvipati Shah.\\n\\nSearch results ranked based on relevance in descending order:\\n[1]: Louise d\\'Aumont Louise d\\'Aumont, \"duchesse d\\'Aumont, duchesse Mazarin et de La Meilleraye\" (Louise Félicité Victoire; 22 October 1759 in Paris – 13 December 1826 in Paris) was the only child and daughter of Louis Marie d\\'Aumont, Duke of Aumont (1732–1799), and his wife, Louise Jeanne de Durfort, \"duchesse Mazarin et de La Meilleraye\" (Paris, 1 September 1735 - Paris, 17 March 1781). She married Honoré IV, Prince of Monaco, on 15 July 1777 in Paris. The couple had two children, both of whom in turn ruled Monaco: Prince Honoré V and Prince Florestan I. Following their incarceration during the French\\nQuestion: What nationality is Honoré V, Prince Of Monaco\\'s mother?\\nAnswer: Honoré V, Prince of Monaco\\'s mother is Louise d\\'Aumont.',\n",
       "   \" Louise d'Aumont's nationality is French.\"],\n",
       "  ['Search results ranked based on relevance in descending order:\\n[1]: The Hypocrites (1915 film) Hypocrites, also known as The Hypocrites, is a 1915 silent drama film written and directed by Lois Weber (1879–1939). The film contained several full nude scenes. The film is regarded as anticlerical, and the nudity was justified by its religious context. The film follows the parallel stories of an early Christian ascetic and a modern minister, with most actors in dual roles. Gabriel (Courteney Foote) is a medieval monk who devotes himself to completing a statue of “Truth,” only to be murdered by a mob when his work turns out to be an image of a\\n[2]: been considered scandalous and immoral. The film was passed by the British Board of Film Censors. However, because of the full and recurring nudity through the film, it caused riots in New York City, was banned in Ohio, and was subject to censorship in Boston when the mayor demanded that the film negatives be painted over to clothe the woman. \"Hypocrites\" and the technique was widely admired at the time for its extraordinary use of multiple exposures and intricate editing, and propelled Weber to the front ranks of silent directors. The use in the film of traveling double exposure sequences\\nQuestion: When did the director of film Hypocrite (Film) die?\\nAnswer: The film Hypocrite was directed by Miguel Morayta. Miguel Morayta died on 19 June 2013. So the answer is 19 June 2013.\\n\\nSearch results ranked based on relevance in descending order:\\n[1]: Kurram Garhi Kurram Garhi is a small village located in the city of Bannu, which is the part of Khyber Pakhtunkhwa province of Pakistan. Its population is approximately 35000. Barren hills are near this village. It has a big graveyard, which is used by the neighbouring villages. Kurram Garhi is located in Khyber Pakhtunkhwa (KPK) near Bann. It’s about a 20-25 minute drive from Bannu city. This village is on the border of Kurram Agency. Other nearby villages are Peppal, Surwangi and Amandi Kala. The people of Kurram Garhi wear Shalwar-Kameez regional dress. For women the design is different. In\\n[2]: in February 1958 with Average Annual generating capacity of 17 million units (GWh) of least expensive electricity. In the vicinity of the hamlet a big water treatment plant purifies canal water called kurram. The water is purified for the whole city. The pure water then flows from Kurram Garhi to Bannu city approximately 25 km. The pure water is stored in a huge tank located in Tanchi Bazar. Graves may be 20–25 feet long. The graves are at Baba Sahab. Kurram Garhi Kurram Garhi is a small village located in the city of Bannu, which is the part of Khyber\\nQuestion: Are both Kurram Garhi and Trojkrsti located in the same country?\\nAnswer: Kurram Garhi is located in the country of Pakistan. Trojkrsti is located in the country of Republic of Macedonia. Thus, they are not in the same country. So the answer is no.\\n\\nSearch results ranked based on relevance in descending order:\\n[1]: of Coolie No. 1 was a rage when it released. Although producer of Tips films Vashu Bhagnani and director David Dhawan were extremely confident that \"Husn Hain Suhana\", rendered by Abhijeet and Chandana Dixit would be the selling factor of the album, it was the song \"Main To Raste Se Ja Raha Tha\" that did the trick. The music of Coolie No. 1 strengthened Anand-Milind and Govinda/David Dhawan\\'s track record of coming up with super hit music with each outing. Coolie No. 1 (1995 film) Coolie No. 1 is a 1995 Indian Hindi comedy film directed by David Dhawan. The\\n[2]: Coolie No. 1 (1995 film) Coolie No. 1 is a 1995 Indian Hindi comedy film directed by David Dhawan. The film stars Govinda, Karisma Kapoor, Shakti Kapoor, Kadar Khan and Sadashiv Amrapurkar, with music by Anand-Milind. This movie was one of the first successful movies of Karisma Kapoor. Actor Govinda received the Star Screen Award Special Jury Award for his role in this movie as \\'performer of the decade\\'. Over the years, the movie has become a classic in Indian film history and is now considered a cult film. The movie is a remake of the 1993 Tamil film, \"Chinna\\nQuestion: Do director of film Coolie No. 1 (1995 Film) and director of film The Sensational Trial have the same nationality?\\nAnswer: Coolie No. 1 (1995 film) was directed by David Dhawan. The Sensational Trial was directed by Karl Freund. David Dhawan\\'s nationality is India. Karl Freund\\'s nationality is Germany. Thus, they do not have the same nationality. So the answer is no.\\n\\nSearch results ranked based on relevance in descending order:\\n[1]: the turbulent events of his father\\'s rise. When Ögedei was 17 years old, Genghis Khan experienced the disastrous defeat of Khalakhaljid Sands against the army of Jamukha. Ögedei was heavily wounded and lost on the battlefield. His father\\'s adopted brother and companion Borokhula rescued him. Although already married, in 1204 his father gave him Töregene, the wife of a defeated Merkit chief. The addition of such a wife was not uncommon in steppe culture. After Genghis was proclaimed Emperor or Khagan in 1206, \"myangans\" (thousands) of the Jalayir, Besud, Suldus, and Khongqatan clans were given to him as his appanage.\\n[2]: House of Ögedei The House of Ögedei, sometimes called the Ögedeids, were an influential family of Mongol Borjigin (Imperial, or Golden Family) from the 12th to 14th centuries. They were descended from Ögedei Khan (c.1185-1241), a son of Genghis Khan who had become his father\\'s successor, second Khagan of the Mongol Empire. Ögedei continued the expansion of the Mongol Empire. When, after the Toluid Möngke Khan\\'s death, the Mongol Empire disintegrated into civil war, the members of the House of Ogedei were influential players in the politics of the region. Of Genghis Khan\\'s sons — Ogedei, Jochi, Chagatai, and Tolui\\nQuestion: Who is Boraqchin (Wife Of Ögedei)\\'s father-in-law?\\nAnswer: Boraqchin is married to Ögedei Khan. Ögedei Khan\\'s father is Genghis Khan. Thus, Boraqchin\\'s father-in-law is Genghis Khan. So the answer is Genghis Khan.\\n\\nSearch results ranked based on relevance in descending order:\\n[1]: Marcos Martinich Marcos Daniel Martinich (born 8 August 1996) is an Argentine professional footballer who plays as a midfielder for Primera B Nacional side Villa Dálmine, on loan from Argentine Primera División side Rosario Central. Martinich started his career in the ranks of Argentine Primera División side Rosario Central. In August 2016, Martinich was loaned to Talleres. However, he didn\\'t feature for the Primera División club in senior football and returned to Rosario Central months after joining. On 5 September 2017, Villa Dálmine completed the loan signing of Martinich. He made his professional debut on 16 September during a 2–0\\n[2]: victory over Boca Unidos. Marcos Martinich Marcos Daniel Martinich (born 8 August 1996) is an Argentine professional footballer who plays as a midfielder for Primera B Nacional side Villa Dálmine, on loan from Argentine Primera División side Rosario Central. Martinich started his career in the ranks of Argentine Primera División side Rosario Central. In August 2016, Martinich was loaned to Talleres. However, he didn\\'t feature for the Primera División club in senior football and returned to Rosario Central months after joining. On 5 September 2017, Villa Dálmine completed the loan signing of Martinich. He made his professional debut on 16\\nQuestion: Who was born first out of Martin Hodge and Ivania Martinich?\\nAnswer: Martin Hodge was born on 4 February 1959. Ivania Martinich was born on 25 July 1995. Thus, Martin Hodge was born first. So the answer is Martin Hodge.\\n\\nSearch results ranked based on relevance in descending order:\\n[1]: Laughter in Hell Laughter in Hell is a 1933 American Pre-Code drama film directed by Edward L. Cahn and starring Pat O\\'Brien. The film\\'s title was typical of the sensationalistic titles of many Pre-Code films. The film was inspired in part by \"I Am a Fugitive from a Chain Gang\" and was part of a series of films depicting men in chain gangs following the success of that film. O\\'Brien plays a railroad engineer who kills his wife and her lover in a jealous rage and is sent to prison. The movie received a mixed review in \"The New York\\n[2]: cuts by city and state film censorship boards. Several censorship boards including New York, Ohio, Massachusetts, Pennsylvania, and Chicago removed the lynching scene, allowing only indications that a hanging was about to take place. Mordaunt Hall, writing for \"The New York Times\" praised the acting, the characterizations, action sequences, and some of the banter, but was not impressed with the storyline. Laughter in Hell Laughter in Hell is a 1933 American Pre-Code drama film directed by Edward L. Cahn and starring Pat O\\'Brien. The film\\'s title was typical of the sensationalistic titles of many Pre-Code films. The film was inspired\\nQuestion: When did the director of film Laughter In Hell die?\\nAnswer: The film Laughter In Hell was directed by Edward L. Cahn. Edward L. Cahn died on August 25, 1963. So the answer is August 25, 1963.\\n\\nSearch results ranked based on relevance in descending order:\\n[1]: in February 1949. The film was retitled \"The Gal Who Took the West\" during editing. The Gal Who Took the West The Gal Who Took the West is a 1949 American Technicolor Western film directed by Frederick de Cordova starring Yvonne De Carlo, Charles Coburn, Scott Brady and John Russell. It was nominated for an award by the Writers Guild of America 1950. A journalist is writing an article on the O\\'Hara family of Arizona. They tell about the time in the 1890s when a girl, Lily, was caught in a feud between two O\\'Haras. The film was originally known\\n[2]: The Gal Who Took the West The Gal Who Took the West is a 1949 American Technicolor Western film directed by Frederick de Cordova starring Yvonne De Carlo, Charles Coburn, Scott Brady and John Russell. It was nominated for an award by the Writers Guild of America 1950. A journalist is writing an article on the O\\'Hara family of Arizona. They tell about the time in the 1890s when a girl, Lily, was caught in a feud between two O\\'Haras. The film was originally known as \"The Western Story\". It was the idea of William Bowers, about three interpretations of\\nQuestion: Which film has the director died later, The Gal Who Took the West or Twenty Plus Two?\\nAnswer: The film Twenty Plus Two was directed by Joseph M. Newman. The Gal Who Took the West was directed by Frederick de Cordova. Joseph M. Newman died on January 23, 2006. Fred de Cordova died on September 15, 2001. Thus, the person to die later from the two is Twenty Plus Two. So the answer is Twenty Plus Two.\\n\\nSearch results ranked based on relevance in descending order:\\n[1]: Nepalese Army The Nepalese Army () or Gorkhali Army () is the military land warfare force of Nepal. Service is voluntary and the minimum age of recruitment is 18 years. The army was formerly known as The Royal Nepalese Army (RNA) during the monarchy period in Nepal. It was renamed the Nepalese Army on 28 May 2008 after the abolition of the 238-year-old Shah dynasty rule. Nepal unification campaign was a turning point in the history of the Nepalese army. Since unification was not possible without a strong army, the management of the armed forces had to be exceptional. Apart\\n[2]: Bam Shah \"Sri Chautaria\" Bam Shah or Brahma Shah was an administrator of Nepal. He belongs to Shah Dynasty of Gorkha. He was Governor of Kumaun Province during Anglo-Nepalese war. He was born to Birbaha Shah. He was grandson of \"Sri Sri Sri Maharaj Adhirajkumar\" Chandrarup Shah, 4th son of King Prithvipati Shah of Gorkha. His 3 brothers were Dilip Shah, Hasti Dal Shah (warrior killed at Anglo-Nepalese war) and Rudra Bir Shah. He was a Minister of State in 1800 A.D. and the Governor of Kumaun from 1814 to 1815 A.D. at Anglo-Nepalese war. Out at west Nepalese were\\nQuestion: Who is the grandchild of Krishna Shah (Nepalese Royal)?\\nAnswer: Krishna Shah has a child named Rudra Shah. Rudra Shah has a child named Prithvipati Shah. Thus, Krishna Shah has a grandchild named Prithvipati Shah. So the answer is Prithvipati Shah.\\n\\nSearch results ranked based on relevance in descending order:\\n[1]: Honoré V, Prince of Monaco Honoré V (13 May/14 May 1778 in Paris – 2 October 1841 in Paris) was Prince of Monaco and Duke of Valentinois. He was born Honoré Gabriel Grimaldi, the first son of Honoré IV of Monaco and Louise d\\'Aumont. A professor of the period, one Victor de la Canorgue, wrote of Prince Honoré in negative terms: extravagant and fond of luxuries for himself, but miserly for others, even his own family, to whom he gave \"pensions disproportionate to his means.\" This professor endeavored to collect accounts of the reigns of Honoré V and of his\\nQuestion: What nationality is Honoré V, Prince Of Monaco\\'s mother?\\nAnswer: Honoré V, Prince of Monaco\\'s mother is Louise d\\'Aumont. Louise d\\'Aumont\\'s nationality is French.',\n",
       "   ' So the answer is French.']])"
      ]
     },
     "execution_count": 43,
     "metadata": {},
     "output_type": "execute_result"
    }
   ],
   "source": [
    "result[0]['gold_output'], result[0]['answer'], result[0]['output'], result[0]['trace']"
   ]
  },
  {
   "cell_type": "code",
   "execution_count": 27,
   "metadata": {},
   "outputs": [
    {
     "data": {
      "text/plain": [
       "dict_keys(['qid', 'question', 'answer', 'answer_id', 'gold_output', 'ctxs', 'demo', 'case', 'output', 'output_prob', 'retrieval', 'trace'])"
      ]
     },
     "execution_count": 27,
     "metadata": {},
     "output_type": "execute_result"
    }
   ],
   "source": [
    "result[0].keys()"
   ]
  },
  {
   "cell_type": "code",
   "execution_count": 28,
   "metadata": {},
   "outputs": [
    {
     "data": {
      "text/plain": [
       "{'correct': 0, 'incorrect': 1}"
      ]
     },
     "execution_count": 28,
     "metadata": {},
     "output_type": "execute_result"
    }
   ],
   "source": [
    "data.exact_match_score(result[0]['gold_output'], result[0]['answer'], result[0]['answer_id'])"
   ]
  },
  {
   "cell_type": "code",
   "execution_count": 29,
   "metadata": {},
   "outputs": [
    {
     "data": {
      "text/plain": [
       "{'f1': 0.4, 'precision': 0.25, 'recall': 1.0}"
      ]
     },
     "execution_count": 29,
     "metadata": {},
     "output_type": "execute_result"
    }
   ],
   "source": [
    "data.f1_score(result[0]['gold_output'], result[0]['answer'], result[0]['answer_id'])"
   ]
  },
  {
   "cell_type": "code",
   "execution_count": 32,
   "metadata": {},
   "outputs": [
    {
     "name": "stdout",
     "output_type": "stream",
     "text": [
      "{'correct': 0, 'incorrect': 1}\n",
      "{'f1': 0.4, 'precision': 0.25, 'recall': 1.0}\n",
      "{'correct': 0, 'incorrect': 1}\n",
      "{'f1': 0.5714285714285715, 'precision': 0.4, 'recall': 1.0}\n",
      "{'correct': 0, 'incorrect': 1}\n",
      "{'f1': 0.5714285714285715, 'precision': 0.4, 'recall': 1.0}\n",
      "{'correct': 0, 'incorrect': 1}\n",
      "{'f1': 0.5714285714285715, 'precision': 0.4, 'recall': 1.0}\n",
      "{'correct': 0, 'incorrect': 1}\n",
      "{'f1': 0.5714285714285715, 'precision': 0.4, 'recall': 1.0}\n",
      "{'correct': 0, 'incorrect': 1}\n",
      "{'f1': 0.5714285714285715, 'precision': 0.4, 'recall': 1.0}\n",
      "{'correct': 0, 'incorrect': 1}\n",
      "{'f1': 0.7272727272727273, 'precision': 0.5714285714285714, 'recall': 1.0}\n",
      "{'correct': 0, 'incorrect': 1}\n",
      "{'f1': 0.7692307692307693, 'precision': 0.625, 'recall': 1.0}\n",
      "{'correct': 0, 'incorrect': 1}\n",
      "{'f1': 0.6666666666666666, 'precision': 0.5, 'recall': 1.0}\n",
      "{'correct': 0, 'incorrect': 1}\n",
      "{'f1': 0.5714285714285715, 'precision': 0.4, 'recall': 1.0}\n",
      "{'correct': 0, 'incorrect': 1}\n",
      "{'f1': 0.5714285714285715, 'precision': 0.4, 'recall': 1.0}\n",
      "{'correct': 0, 'incorrect': 1}\n",
      "{'f1': 0.4, 'precision': 0.25, 'recall': 1.0}\n",
      "{'correct': 0, 'incorrect': 1}\n",
      "{'f1': 0.5714285714285715, 'precision': 0.4, 'recall': 1.0}\n",
      "{'correct': 0, 'incorrect': 1}\n",
      "{'f1': 0.5714285714285715, 'precision': 0.4, 'recall': 1.0}\n",
      "{'correct': 0, 'incorrect': 1}\n",
      "{'f1': 0.5714285714285715, 'precision': 0.4, 'recall': 1.0}\n",
      "{'correct': 0, 'incorrect': 1}\n",
      "{'f1': 0.5714285714285715, 'precision': 0.4, 'recall': 1.0}\n",
      "{'correct': 0, 'incorrect': 1}\n",
      "{'f1': 0.5714285714285715, 'precision': 0.4, 'recall': 1.0}\n",
      "{'correct': 0, 'incorrect': 1}\n",
      "{'f1': 0.7272727272727273, 'precision': 0.5714285714285714, 'recall': 1.0}\n",
      "{'correct': 0, 'incorrect': 1}\n",
      "{'f1': 0.7692307692307693, 'precision': 0.625, 'recall': 1.0}\n",
      "{'correct': 0, 'incorrect': 1}\n",
      "{'f1': 0.6666666666666666, 'precision': 0.5, 'recall': 1.0}\n",
      "{'correct': 0, 'incorrect': 1}\n",
      "{'f1': 0.5714285714285715, 'precision': 0.4, 'recall': 1.0}\n",
      "{'correct': 0, 'incorrect': 1}\n",
      "{'f1': 0.5714285714285715, 'precision': 0.4, 'recall': 1.0}\n",
      "{'correct': 0, 'incorrect': 1}\n",
      "{'f1': 0.7272727272727273, 'precision': 0.5714285714285714, 'recall': 1.0}\n",
      "{'correct': 0, 'incorrect': 1}\n",
      "{'f1': 0.6666666666666666, 'precision': 0.5, 'recall': 1.0}\n",
      "{'correct': 0, 'incorrect': 1}\n",
      "{'f1': 0.6666666666666666, 'precision': 0.5, 'recall': 1.0}\n",
      "{'correct': 0, 'incorrect': 1}\n",
      "{'f1': 0.6666666666666666, 'precision': 0.5, 'recall': 1.0}\n",
      "{'correct': 0, 'incorrect': 1}\n",
      "{'f1': 0.5714285714285715, 'precision': 0.4, 'recall': 1.0}\n",
      "{'correct': 0, 'incorrect': 1}\n",
      "{'f1': 0, 'precision': 0, 'recall': 0}\n",
      "{'correct': 0, 'incorrect': 1}\n",
      "{'f1': 0.7272727272727273, 'precision': 0.5714285714285714, 'recall': 1.0}\n",
      "{'correct': 0, 'incorrect': 1}\n",
      "{'f1': 0.6666666666666666, 'precision': 0.5, 'recall': 1.0}\n",
      "{'correct': 0, 'incorrect': 1}\n",
      "{'f1': 0.5714285714285715, 'precision': 0.4, 'recall': 1.0}\n",
      "{'correct': 0, 'incorrect': 1}\n",
      "{'f1': 0, 'precision': 0, 'recall': 0}\n",
      "{'correct': 0, 'incorrect': 1}\n",
      "{'f1': 0.6666666666666666, 'precision': 0.5, 'recall': 1.0}\n"
     ]
    }
   ],
   "source": [
    "for row in result:\n",
    "    print(data.exact_match_score(row['gold_output'], row['answer'], row['answer_id']))\n",
    "    print(data.f1_score(row['gold_output'], row['answer'], row['answer_id']))"
   ]
  },
  {
   "cell_type": "code",
   "execution_count": null,
   "metadata": {},
   "outputs": [],
   "source": []
  }
 ],
 "metadata": {
  "kernelspec": {
   "display_name": "FLARE",
   "language": "python",
   "name": "python3"
  },
  "language_info": {
   "codemirror_mode": {
    "name": "ipython",
    "version": 3
   },
   "file_extension": ".py",
   "mimetype": "text/x-python",
   "name": "python",
   "nbconvert_exporter": "python",
   "pygments_lexer": "ipython3",
   "version": "3.9.19"
  }
 },
 "nbformat": 4,
 "nbformat_minor": 2
}
